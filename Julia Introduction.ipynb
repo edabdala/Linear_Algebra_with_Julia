{
 "cells": [
  {
   "cell_type": "code",
   "execution_count": 3,
   "metadata": {},
   "outputs": [
    {
     "data": {
      "text/plain": [
       "32"
      ]
     },
     "execution_count": 3,
     "metadata": {},
     "output_type": "execute_result"
    }
   ],
   "source": [
    "10 + 22"
   ]
  },
  {
   "cell_type": "code",
   "execution_count": 4,
   "metadata": {},
   "outputs": [
    {
     "data": {
      "text/plain": [
       "\"Julia\""
      ]
     },
     "execution_count": 4,
     "metadata": {},
     "output_type": "execute_result"
    }
   ],
   "source": [
    "s = \"Julia\""
   ]
  },
  {
   "cell_type": "code",
   "execution_count": 5,
   "metadata": {},
   "outputs": [
    {
     "data": {
      "text/plain": [
       "17"
      ]
     },
     "execution_count": 5,
     "metadata": {},
     "output_type": "execute_result"
    }
   ],
   "source": [
    "x = 10\n",
    "y = 7\n",
    "x+y"
   ]
  },
  {
   "cell_type": "code",
   "execution_count": 6,
   "metadata": {},
   "outputs": [
    {
     "data": {
      "text/plain": [
       "5-element Array{Int64,1}:\n",
       " 1\n",
       " 2\n",
       " 3\n",
       " 4\n",
       " 5"
      ]
     },
     "execution_count": 6,
     "metadata": {},
     "output_type": "execute_result"
    }
   ],
   "source": [
    "x = [1,2,3,4,5]"
   ]
  },
  {
   "cell_type": "code",
   "execution_count": 7,
   "metadata": {},
   "outputs": [
    {
     "data": {
      "text/plain": [
       "1"
      ]
     },
     "execution_count": 7,
     "metadata": {},
     "output_type": "execute_result"
    }
   ],
   "source": [
    "x[1]"
   ]
  },
  {
   "cell_type": "code",
   "execution_count": 8,
   "metadata": {},
   "outputs": [
    {
     "data": {
      "text/plain": [
       "(5,)"
      ]
     },
     "execution_count": 8,
     "metadata": {},
     "output_type": "execute_result"
    }
   ],
   "source": [
    "size(x)"
   ]
  },
  {
   "cell_type": "code",
   "execution_count": 9,
   "metadata": {},
   "outputs": [
    {
     "data": {
      "text/plain": [
       "3×4 Array{Int64,2}:\n",
       " 1   2   3   4\n",
       " 5   6   7   8\n",
       " 9  10  11  12"
      ]
     },
     "execution_count": 9,
     "metadata": {},
     "output_type": "execute_result"
    }
   ],
   "source": [
    "A = [1 2 3 4; 5 6 7 8; 9 10 11 12]"
   ]
  },
  {
   "cell_type": "code",
   "execution_count": 8,
   "metadata": {},
   "outputs": [
    {
     "data": {
      "text/plain": [
       "6"
      ]
     },
     "execution_count": 8,
     "metadata": {},
     "output_type": "execute_result"
    }
   ],
   "source": [
    "A[2,2]"
   ]
  },
  {
   "cell_type": "code",
   "execution_count": 9,
   "metadata": {},
   "outputs": [
    {
     "data": {
      "text/plain": [
       "8"
      ]
     },
     "execution_count": 9,
     "metadata": {},
     "output_type": "execute_result"
    }
   ],
   "source": [
    "A[2,4] # <- goes column then row"
   ]
  },
  {
   "cell_type": "code",
   "execution_count": 12,
   "metadata": {},
   "outputs": [
    {
     "data": {
      "text/plain": [
       "4×4 Array{Float64,2}:\n",
       " 0.451153  0.112755   0.519496  0.970496\n",
       " 0.382155  0.234828   0.730806  0.733441\n",
       " 0.600159  0.0345165  0.766223  0.585189\n",
       " 0.522431  0.364227   0.408151  0.210351"
      ]
     },
     "execution_count": 12,
     "metadata": {},
     "output_type": "execute_result"
    }
   ],
   "source": [
    "A = rand(4,4)"
   ]
  },
  {
   "cell_type": "code",
   "execution_count": 13,
   "metadata": {},
   "outputs": [
    {
     "data": {
      "text/plain": [
       "4-element Array{Float64,1}:\n",
       " 0.03891940793475568\n",
       " 0.165713400872048  \n",
       " 0.21802310533450253\n",
       " 0.38184071548007026"
      ]
     },
     "execution_count": 13,
     "metadata": {},
     "output_type": "execute_result"
    }
   ],
   "source": [
    "b = rand(4)"
   ]
  },
  {
   "cell_type": "code",
   "execution_count": 14,
   "metadata": {},
   "outputs": [
    {
     "data": {
      "text/plain": [
       "4-element Array{Float64,1}:\n",
       " 0.5200805564377877 \n",
       " 0.49317776677069514\n",
       " 0.4195810726310538 \n",
       " 0.24999699885081675"
      ]
     },
     "execution_count": 14,
     "metadata": {},
     "output_type": "execute_result"
    }
   ],
   "source": [
    "A*b"
   ]
  },
  {
   "cell_type": "code",
   "execution_count": 1,
   "metadata": {},
   "outputs": [],
   "source": [
    "using LinearAlgebra"
   ]
  },
  {
   "cell_type": "code",
   "execution_count": 10,
   "metadata": {},
   "outputs": [
    {
     "data": {
      "text/plain": [
       "2"
      ]
     },
     "execution_count": 10,
     "metadata": {},
     "output_type": "execute_result"
    }
   ],
   "source": [
    "rank(A)"
   ]
  },
  {
   "cell_type": "code",
   "execution_count": 15,
   "metadata": {},
   "outputs": [
    {
     "data": {
      "text/plain": [
       "4×4 Array{Float64,2}:\n",
       "  1.27959   -3.27389     1.41298    1.58075 \n",
       " -0.256472   1.90621    -2.62695    1.84489 \n",
       " -2.27699    2.51236     0.989984  -1.00872 \n",
       "  1.68421   -0.0443792  -0.881573  -0.409229"
      ]
     },
     "execution_count": 15,
     "metadata": {},
     "output_type": "execute_result"
    }
   ],
   "source": [
    "inv(A)"
   ]
  },
  {
   "cell_type": "code",
   "execution_count": 16,
   "metadata": {},
   "outputs": [
    {
     "data": {
      "text/plain": [
       "LU{Float64,Array{Float64,2}}\n",
       "L factor:\n",
       "4×4 Array{Float64,2}:\n",
       " 1.0       0.0       0.0        0.0\n",
       " 0.870488  1.0       0.0        0.0\n",
       " 0.636756  0.636929  1.0        0.0\n",
       " 0.751723  0.259763  0.0263502  1.0\n",
       "U factor:\n",
       "4×4 Array{Float64,2}:\n",
       " 0.600159  0.0345165   0.766223   0.585189\n",
       " 0.0       0.334181   -0.258837  -0.299049\n",
       " 0.0       0.0         0.40777    0.551291\n",
       " 0.0       0.0         0.0        0.59375 "
      ]
     },
     "execution_count": 16,
     "metadata": {},
     "output_type": "execute_result"
    }
   ],
   "source": [
    "L, U = lu(A)"
   ]
  },
  {
   "cell_type": "code",
   "execution_count": 17,
   "metadata": {},
   "outputs": [],
   "source": [
    "using Plots"
   ]
  },
  {
   "cell_type": "code",
   "execution_count": 21,
   "metadata": {},
   "outputs": [
    {
     "data": {
      "image/svg+xml": [
       "<?xml version=\"1.0\" encoding=\"utf-8\"?>\n",
       "<svg xmlns=\"http://www.w3.org/2000/svg\" xmlns:xlink=\"http://www.w3.org/1999/xlink\" width=\"600\" height=\"400\" viewBox=\"0 0 2400 1600\">\n",
       "<defs>\n",
       "  <clipPath id=\"clip9700\">\n",
       "    <rect x=\"0\" y=\"0\" width=\"2000\" height=\"2000\"/>\n",
       "  </clipPath>\n",
       "</defs>\n",
       "<defs>\n",
       "  <clipPath id=\"clip9701\">\n",
       "    <rect x=\"0\" y=\"0\" width=\"2400\" height=\"1600\"/>\n",
       "  </clipPath>\n",
       "</defs>\n",
       "<polygon clip-path=\"url(#clip9701)\" points=\"\n",
       "0,1600 2400,1600 2400,0 0,0 \n",
       "  \" fill=\"#ffffff\" fill-rule=\"evenodd\" fill-opacity=\"1\"/>\n",
       "<defs>\n",
       "  <clipPath id=\"clip9702\">\n",
       "    <rect x=\"480\" y=\"0\" width=\"1681\" height=\"1600\"/>\n",
       "  </clipPath>\n",
       "</defs>\n",
       "<polygon clip-path=\"url(#clip9701)\" points=\"\n",
       "202.885,1503.47 2321.26,1503.47 2321.26,47.2441 202.885,47.2441 \n",
       "  \" fill=\"#ffffff\" fill-rule=\"evenodd\" fill-opacity=\"1\"/>\n",
       "<defs>\n",
       "  <clipPath id=\"clip9703\">\n",
       "    <rect x=\"202\" y=\"47\" width=\"2119\" height=\"1457\"/>\n",
       "  </clipPath>\n",
       "</defs>\n",
       "<polyline clip-path=\"url(#clip9703)\" style=\"stroke:#000000; stroke-width:2; stroke-opacity:0.1; fill:none\" points=\"\n",
       "  458.908,1503.47 458.908,47.2441 \n",
       "  \"/>\n",
       "<polyline clip-path=\"url(#clip9703)\" style=\"stroke:#000000; stroke-width:2; stroke-opacity:0.1; fill:none\" points=\"\n",
       "  860.86,1503.47 860.86,47.2441 \n",
       "  \"/>\n",
       "<polyline clip-path=\"url(#clip9703)\" style=\"stroke:#000000; stroke-width:2; stroke-opacity:0.1; fill:none\" points=\"\n",
       "  1262.81,1503.47 1262.81,47.2441 \n",
       "  \"/>\n",
       "<polyline clip-path=\"url(#clip9703)\" style=\"stroke:#000000; stroke-width:2; stroke-opacity:0.1; fill:none\" points=\"\n",
       "  1664.76,1503.47 1664.76,47.2441 \n",
       "  \"/>\n",
       "<polyline clip-path=\"url(#clip9703)\" style=\"stroke:#000000; stroke-width:2; stroke-opacity:0.1; fill:none\" points=\"\n",
       "  2066.72,1503.47 2066.72,47.2441 \n",
       "  \"/>\n",
       "<polyline clip-path=\"url(#clip9703)\" style=\"stroke:#000000; stroke-width:2; stroke-opacity:0.1; fill:none\" points=\"\n",
       "  202.885,1332.72 2321.26,1332.72 \n",
       "  \"/>\n",
       "<polyline clip-path=\"url(#clip9703)\" style=\"stroke:#000000; stroke-width:2; stroke-opacity:0.1; fill:none\" points=\"\n",
       "  202.885,1053.28 2321.26,1053.28 \n",
       "  \"/>\n",
       "<polyline clip-path=\"url(#clip9703)\" style=\"stroke:#000000; stroke-width:2; stroke-opacity:0.1; fill:none\" points=\"\n",
       "  202.885,773.835 2321.26,773.835 \n",
       "  \"/>\n",
       "<polyline clip-path=\"url(#clip9703)\" style=\"stroke:#000000; stroke-width:2; stroke-opacity:0.1; fill:none\" points=\"\n",
       "  202.885,494.391 2321.26,494.391 \n",
       "  \"/>\n",
       "<polyline clip-path=\"url(#clip9703)\" style=\"stroke:#000000; stroke-width:2; stroke-opacity:0.1; fill:none\" points=\"\n",
       "  202.885,214.947 2321.26,214.947 \n",
       "  \"/>\n",
       "<polyline clip-path=\"url(#clip9701)\" style=\"stroke:#000000; stroke-width:4; stroke-opacity:1; fill:none\" points=\"\n",
       "  202.885,1503.47 2321.26,1503.47 \n",
       "  \"/>\n",
       "<polyline clip-path=\"url(#clip9701)\" style=\"stroke:#000000; stroke-width:4; stroke-opacity:1; fill:none\" points=\"\n",
       "  202.885,1503.47 202.885,47.2441 \n",
       "  \"/>\n",
       "<polyline clip-path=\"url(#clip9701)\" style=\"stroke:#000000; stroke-width:4; stroke-opacity:1; fill:none\" points=\"\n",
       "  458.908,1503.47 458.908,1481.63 \n",
       "  \"/>\n",
       "<polyline clip-path=\"url(#clip9701)\" style=\"stroke:#000000; stroke-width:4; stroke-opacity:1; fill:none\" points=\"\n",
       "  860.86,1503.47 860.86,1481.63 \n",
       "  \"/>\n",
       "<polyline clip-path=\"url(#clip9701)\" style=\"stroke:#000000; stroke-width:4; stroke-opacity:1; fill:none\" points=\"\n",
       "  1262.81,1503.47 1262.81,1481.63 \n",
       "  \"/>\n",
       "<polyline clip-path=\"url(#clip9701)\" style=\"stroke:#000000; stroke-width:4; stroke-opacity:1; fill:none\" points=\"\n",
       "  1664.76,1503.47 1664.76,1481.63 \n",
       "  \"/>\n",
       "<polyline clip-path=\"url(#clip9701)\" style=\"stroke:#000000; stroke-width:4; stroke-opacity:1; fill:none\" points=\"\n",
       "  2066.72,1503.47 2066.72,1481.63 \n",
       "  \"/>\n",
       "<polyline clip-path=\"url(#clip9701)\" style=\"stroke:#000000; stroke-width:4; stroke-opacity:1; fill:none\" points=\"\n",
       "  202.885,1332.72 234.661,1332.72 \n",
       "  \"/>\n",
       "<polyline clip-path=\"url(#clip9701)\" style=\"stroke:#000000; stroke-width:4; stroke-opacity:1; fill:none\" points=\"\n",
       "  202.885,1053.28 234.661,1053.28 \n",
       "  \"/>\n",
       "<polyline clip-path=\"url(#clip9701)\" style=\"stroke:#000000; stroke-width:4; stroke-opacity:1; fill:none\" points=\"\n",
       "  202.885,773.835 234.661,773.835 \n",
       "  \"/>\n",
       "<polyline clip-path=\"url(#clip9701)\" style=\"stroke:#000000; stroke-width:4; stroke-opacity:1; fill:none\" points=\"\n",
       "  202.885,494.391 234.661,494.391 \n",
       "  \"/>\n",
       "<polyline clip-path=\"url(#clip9701)\" style=\"stroke:#000000; stroke-width:4; stroke-opacity:1; fill:none\" points=\"\n",
       "  202.885,214.947 234.661,214.947 \n",
       "  \"/>\n",
       "<g clip-path=\"url(#clip9701)\">\n",
       "<text style=\"fill:#000000; fill-opacity:1; font-family:Arial,Helvetica Neue,Helvetica,sans-serif; font-size:48px; text-anchor:middle;\" transform=\"rotate(0, 458.908, 1557.47)\" x=\"458.908\" y=\"1557.47\">-4</text>\n",
       "</g>\n",
       "<g clip-path=\"url(#clip9701)\">\n",
       "<text style=\"fill:#000000; fill-opacity:1; font-family:Arial,Helvetica Neue,Helvetica,sans-serif; font-size:48px; text-anchor:middle;\" transform=\"rotate(0, 860.86, 1557.47)\" x=\"860.86\" y=\"1557.47\">-2</text>\n",
       "</g>\n",
       "<g clip-path=\"url(#clip9701)\">\n",
       "<text style=\"fill:#000000; fill-opacity:1; font-family:Arial,Helvetica Neue,Helvetica,sans-serif; font-size:48px; text-anchor:middle;\" transform=\"rotate(0, 1262.81, 1557.47)\" x=\"1262.81\" y=\"1557.47\">0</text>\n",
       "</g>\n",
       "<g clip-path=\"url(#clip9701)\">\n",
       "<text style=\"fill:#000000; fill-opacity:1; font-family:Arial,Helvetica Neue,Helvetica,sans-serif; font-size:48px; text-anchor:middle;\" transform=\"rotate(0, 1664.76, 1557.47)\" x=\"1664.76\" y=\"1557.47\">2</text>\n",
       "</g>\n",
       "<g clip-path=\"url(#clip9701)\">\n",
       "<text style=\"fill:#000000; fill-opacity:1; font-family:Arial,Helvetica Neue,Helvetica,sans-serif; font-size:48px; text-anchor:middle;\" transform=\"rotate(0, 2066.72, 1557.47)\" x=\"2066.72\" y=\"1557.47\">4</text>\n",
       "</g>\n",
       "<g clip-path=\"url(#clip9701)\">\n",
       "<text style=\"fill:#000000; fill-opacity:1; font-family:Arial,Helvetica Neue,Helvetica,sans-serif; font-size:48px; text-anchor:end;\" transform=\"rotate(0, 178.885, 1350.22)\" x=\"178.885\" y=\"1350.22\">-100</text>\n",
       "</g>\n",
       "<g clip-path=\"url(#clip9701)\">\n",
       "<text style=\"fill:#000000; fill-opacity:1; font-family:Arial,Helvetica Neue,Helvetica,sans-serif; font-size:48px; text-anchor:end;\" transform=\"rotate(0, 178.885, 1070.78)\" x=\"178.885\" y=\"1070.78\">-50</text>\n",
       "</g>\n",
       "<g clip-path=\"url(#clip9701)\">\n",
       "<text style=\"fill:#000000; fill-opacity:1; font-family:Arial,Helvetica Neue,Helvetica,sans-serif; font-size:48px; text-anchor:end;\" transform=\"rotate(0, 178.885, 791.335)\" x=\"178.885\" y=\"791.335\">0</text>\n",
       "</g>\n",
       "<g clip-path=\"url(#clip9701)\">\n",
       "<text style=\"fill:#000000; fill-opacity:1; font-family:Arial,Helvetica Neue,Helvetica,sans-serif; font-size:48px; text-anchor:end;\" transform=\"rotate(0, 178.885, 511.891)\" x=\"178.885\" y=\"511.891\">50</text>\n",
       "</g>\n",
       "<g clip-path=\"url(#clip9701)\">\n",
       "<text style=\"fill:#000000; fill-opacity:1; font-family:Arial,Helvetica Neue,Helvetica,sans-serif; font-size:48px; text-anchor:end;\" transform=\"rotate(0, 178.885, 232.447)\" x=\"178.885\" y=\"232.447\">100</text>\n",
       "</g>\n",
       "<polyline clip-path=\"url(#clip9703)\" style=\"stroke:#009af9; stroke-width:4; stroke-opacity:1; fill:none\" points=\"\n",
       "  262.839,646.651 267.746,648.006 272.653,649.354 277.559,650.695 322.929,662.781 368.299,674.296 413.669,685.243 459.039,695.619 513.57,707.337 568.1,718.232 \n",
       "  614.206,726.802 660.311,734.783 710.394,742.787 760.477,750.096 806.649,756.22 852.821,761.754 902.322,767.031 951.824,771.63 1009.18,776.111 1066.53,779.681 \n",
       "  1117.5,782.09 1168.46,783.781 1213.16,784.671 1257.85,785.009 1306.58,784.747 1355.31,783.828 1404.33,782.241 1453.35,779.989 1507.54,776.725 1561.74,772.648 \n",
       "  1613.3,768.014 1664.87,762.645 1718.49,756.281 1772.1,749.122 1817.24,742.479 1862.37,735.273 1917.48,725.71 1972.58,715.306 2024.38,704.761 2076.18,693.473 \n",
       "  2159.16,673.841 2242.15,652.303 2254.92,648.819 \n",
       "  \"/>\n",
       "<polyline clip-path=\"url(#clip9703)\" style=\"stroke:#e26f46; stroke-width:4; stroke-opacity:1; fill:none\" points=\"\n",
       "  262.839,1462.26 267.746,1452.18 272.653,1442.19 277.559,1432.3 322.929,1345.46 368.299,1266.61 413.669,1195.37 459.039,1131.35 513.57,1063.41 568.1,1004.67 \n",
       "  614.206,961.696 660.311,924.414 710.394,889.898 760.477,861.106 806.649,839.186 852.821,821.282 902.322,806.088 951.824,794.542 1009.18,785.068 1066.53,779.041 \n",
       "  1168.46,774.413 1257.85,773.835 1355.31,773.29 1453.35,769.072 1507.54,763.743 1561.74,755.444 1613.3,744.191 1664.87,729.088 1718.49,708.692 1772.1,682.886 \n",
       "  1817.24,656.5 1862.37,625.449 1917.48,580.66 1972.58,527.661 2024.38,469.734 2076.18,403.367 2117.67,343.729 2159.16,278.01 2200.66,205.917 2242.15,127.154 \n",
       "  2248.53,114.422 2254.92,101.524 2261.31,88.4582 \n",
       "  \"/>\n",
       "<polygon clip-path=\"url(#clip9701)\" points=\"\n",
       "1958.43,312.204 2249.26,312.204 2249.26,130.764 1958.43,130.764 \n",
       "  \" fill=\"#ffffff\" fill-rule=\"evenodd\" fill-opacity=\"1\"/>\n",
       "<polyline clip-path=\"url(#clip9701)\" style=\"stroke:#000000; stroke-width:4; stroke-opacity:1; fill:none\" points=\"\n",
       "  1958.43,312.204 2249.26,312.204 2249.26,130.764 1958.43,130.764 1958.43,312.204 \n",
       "  \"/>\n",
       "<polyline clip-path=\"url(#clip9701)\" style=\"stroke:#009af9; stroke-width:4; stroke-opacity:1; fill:none\" points=\"\n",
       "  1982.43,191.244 2126.43,191.244 \n",
       "  \"/>\n",
       "<g clip-path=\"url(#clip9701)\">\n",
       "<text style=\"fill:#000000; fill-opacity:1; font-family:Arial,Helvetica Neue,Helvetica,sans-serif; font-size:48px; text-anchor:start;\" transform=\"rotate(0, 2150.43, 208.744)\" x=\"2150.43\" y=\"208.744\">y1</text>\n",
       "</g>\n",
       "<polyline clip-path=\"url(#clip9701)\" style=\"stroke:#e26f46; stroke-width:4; stroke-opacity:1; fill:none\" points=\"\n",
       "  1982.43,251.724 2126.43,251.724 \n",
       "  \"/>\n",
       "<g clip-path=\"url(#clip9701)\">\n",
       "<text style=\"fill:#000000; fill-opacity:1; font-family:Arial,Helvetica Neue,Helvetica,sans-serif; font-size:48px; text-anchor:start;\" transform=\"rotate(0, 2150.43, 269.224)\" x=\"2150.43\" y=\"269.224\">y2</text>\n",
       "</g>\n",
       "</svg>\n"
      ]
     },
     "execution_count": 21,
     "metadata": {},
     "output_type": "execute_result"
    }
   ],
   "source": [
    "f(x) = x^2 - 2\n",
    "g(x) = x^3\n",
    "plot([f,g])"
   ]
  },
  {
   "cell_type": "code",
   "execution_count": null,
   "metadata": {},
   "outputs": [],
   "source": []
  }
 ],
 "metadata": {
  "kernelspec": {
   "display_name": "Julia 1.0.3",
   "language": "julia",
   "name": "julia-1.0"
  },
  "language_info": {
   "file_extension": ".jl",
   "mimetype": "application/julia",
   "name": "julia",
   "version": "1.0.3"
  }
 },
 "nbformat": 4,
 "nbformat_minor": 2
}
