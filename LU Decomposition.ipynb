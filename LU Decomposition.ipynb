{
 "cells": [
  {
   "cell_type": "code",
   "execution_count": 62,
   "metadata": {},
   "outputs": [
    {
     "data": {
      "text/plain": [
       "lu_decomposition (generic function with 1 method)"
      ]
     },
     "execution_count": 62,
     "metadata": {},
     "output_type": "execute_result"
    }
   ],
   "source": [
    "using LinearAlgebra\n",
    "\n",
    "function lu_decomposition(A)\n",
    "    m = size(A)[1]\n",
    "    L = Matrix{Float64}(I,m,m)\n",
    "    U = copy(A)\n",
    "    for k = 1:m-1\n",
    "        for j = k+1:m\n",
    "            L[j,k] = U[j,k]/U[k,k]\n",
    "            U[j,k:m] = U[j,k:m]-L[j,k]*U[k,k:m]\n",
    "        end\n",
    "    end\n",
    "    return L, U\n",
    "end"
   ]
  },
  {
   "cell_type": "code",
   "execution_count": 55,
   "metadata": {},
   "outputs": [
    {
     "data": {
      "text/plain": [
       "4×4 Array{Float64,2}:\n",
       " 2.0  1.0  1.0  0.0\n",
       " 4.0  3.0  3.0  1.0\n",
       " 8.0  7.0  9.0  5.0\n",
       " 6.0  7.0  9.0  8.0"
      ]
     },
     "execution_count": 55,
     "metadata": {},
     "output_type": "execute_result"
    }
   ],
   "source": [
    "A = [2.0 1 1 0; 4 3 3 1; 8 7 9 5; 6 7 9 8]"
   ]
  },
  {
   "cell_type": "code",
   "execution_count": 65,
   "metadata": {},
   "outputs": [
    {
     "data": {
      "text/plain": [
       "([1.0 0.0 0.0 0.0; 2.0 1.0 0.0 0.0; 4.0 3.0 1.0 0.0; 3.0 4.0 1.0 1.0], [2.0 1.0 1.0 0.0; 0.0 1.0 1.0 1.0; 0.0 0.0 2.0 2.0; 0.0 0.0 0.0 2.0])"
      ]
     },
     "execution_count": 65,
     "metadata": {},
     "output_type": "execute_result"
    }
   ],
   "source": [
    "L, U = lu_decomposition(A)\n"
   ]
  },
  {
   "cell_type": "code",
   "execution_count": 66,
   "metadata": {},
   "outputs": [
    {
     "data": {
      "text/plain": [
       "4×4 Array{Float64,2}:\n",
       " 2.0  1.0  1.0  0.0\n",
       " 0.0  1.0  1.0  1.0\n",
       " 0.0  0.0  2.0  2.0\n",
       " 0.0  0.0  0.0  2.0"
      ]
     },
     "execution_count": 66,
     "metadata": {},
     "output_type": "execute_result"
    }
   ],
   "source": [
    "U"
   ]
  },
  {
   "cell_type": "code",
   "execution_count": 12,
   "metadata": {},
   "outputs": [],
   "source": [
    "using LinearAlgebra"
   ]
  },
  {
   "cell_type": "code",
   "execution_count": 16,
   "metadata": {},
   "outputs": [
    {
     "data": {
      "text/plain": [
       "4×4 Array{Float64,2}:\n",
       " 1.0  0.0  0.0  0.0\n",
       " 0.0  1.0  0.0  0.0\n",
       " 0.0  0.0  1.0  0.0\n",
       " 0.0  0.0  0.0  1.0"
      ]
     },
     "execution_count": 16,
     "metadata": {},
     "output_type": "execute_result"
    }
   ],
   "source": [
    "L = Matrix{Float64}(I,size(A)[1],size(A)[2])"
   ]
  },
  {
   "cell_type": "code",
   "execution_count": 46,
   "metadata": {},
   "outputs": [
    {
     "ename": "UndefVarError",
     "evalue": "UndefVarError: U not defined",
     "output_type": "error",
     "traceback": [
      "UndefVarError: U not defined",
      "",
      "Stacktrace:",
      " [1] top-level scope at In[46]:1"
     ]
    }
   ],
   "source": [
    "U"
   ]
  },
  {
   "cell_type": "code",
   "execution_count": 67,
   "metadata": {},
   "outputs": [
    {
     "data": {
      "text/plain": [
       "4×4 Array{Float64,2}:\n",
       " 2.0  1.0  1.0  0.0\n",
       " 4.0  3.0  3.0  1.0\n",
       " 8.0  7.0  9.0  5.0\n",
       " 6.0  7.0  9.0  8.0"
      ]
     },
     "execution_count": 67,
     "metadata": {},
     "output_type": "execute_result"
    }
   ],
   "source": [
    "U = copy(A)\n",
    "U"
   ]
  },
  {
   "cell_type": "code",
   "execution_count": 68,
   "metadata": {},
   "outputs": [
    {
     "data": {
      "text/plain": [
       "53.028294334251406"
      ]
     },
     "execution_count": 68,
     "metadata": {},
     "output_type": "execute_result"
    }
   ],
   "source": [
    "norm(A - L*U)"
   ]
  },
  {
   "cell_type": "code",
   "execution_count": 69,
   "metadata": {},
   "outputs": [
    {
     "data": {
      "text/plain": [
       "forward_solve (generic function with 1 method)"
      ]
     },
     "execution_count": 69,
     "metadata": {},
     "output_type": "execute_result"
    }
   ],
   "source": [
    "function forward_solve(L, b)\n",
    "    m = size(L)[1]\n",
    "    c = zeros(size(L)[1])\n",
    "    c[1] = b[1]/L[1,1]\n",
    "    \n",
    "    for k = 2:m\n",
    "        c[k] = (b[k] - (sum([L[k,i]*c[i] for i = 1:k-1])))/L[k,k]\n",
    "    end\n",
    "    return c\n",
    "end"
   ]
  },
  {
   "cell_type": "code",
   "execution_count": 70,
   "metadata": {},
   "outputs": [
    {
     "data": {
      "text/plain": [
       "back_solve (generic function with 1 method)"
      ]
     },
     "execution_count": 70,
     "metadata": {},
     "output_type": "execute_result"
    }
   ],
   "source": [
    "function back_solve(U,b)\n",
    "    m = size(U)[1]\n",
    "    x = zeros(m)\n",
    "    x[m] = b[m]/U[m,m]\n",
    "    \n",
    "    for k = m-1:-1:1\n",
    "        x[k] = (b[k] - (sum([U[k,i]*x[i] for i = k+1:m])))/U[k,k]\n",
    "    end\n",
    "    \n",
    "    return x\n",
    "end"
   ]
  },
  {
   "cell_type": "code",
   "execution_count": 71,
   "metadata": {},
   "outputs": [
    {
     "data": {
      "text/plain": [
       "solve_system (generic function with 1 method)"
      ]
     },
     "execution_count": 71,
     "metadata": {},
     "output_type": "execute_result"
    }
   ],
   "source": [
    "function solve_system(A,b)\n",
    "    L,U = LU(A)\n",
    "    c = forward_solve(L,b)\n",
    "    x = back_solve(U,c)\n",
    "    return x\n",
    "end"
   ]
  },
  {
   "cell_type": "code",
   "execution_count": 72,
   "metadata": {},
   "outputs": [
    {
     "data": {
      "text/plain": [
       "1000-element Array{Float64,1}:\n",
       " 0.011786262085748067\n",
       " 0.1510242648299942  \n",
       " 0.7853823230271242  \n",
       " 0.5715894428662909  \n",
       " 0.6733034665569197  \n",
       " 0.9862437066345631  \n",
       " 0.9343592116868751  \n",
       " 0.04997934946965632 \n",
       " 0.3689317633664482  \n",
       " 0.08315305738990353 \n",
       " 0.3405044718632897  \n",
       " 0.4535425740934931  \n",
       " 0.1051506395417996  \n",
       " ⋮                   \n",
       " 0.26137999532558576 \n",
       " 0.6672161575396987  \n",
       " 0.19295420215136194 \n",
       " 0.25780299360146897 \n",
       " 0.19127437004996772 \n",
       " 0.7482022235196946  \n",
       " 0.19440340584967575 \n",
       " 0.38008828799605143 \n",
       " 0.5957720822485162  \n",
       " 0.9820310996467705  \n",
       " 0.6443116624561529  \n",
       " 0.42047513039166207 "
      ]
     },
     "execution_count": 72,
     "metadata": {},
     "output_type": "execute_result"
    }
   ],
   "source": [
    "A = rand(1000,1000)\n",
    "b = rand(1000)"
   ]
  },
  {
   "cell_type": "code",
   "execution_count": 73,
   "metadata": {},
   "outputs": [
    {
     "ename": "MethodError",
     "evalue": "MethodError: no method matching LU(::Array{Float64,2})\nClosest candidates are:\n  LU(::AbstractArray{T,2}, !Matched::Array{Int64,1}, !Matched::Int64) where T at /buildworker/worker/package_linux64/build/usr/share/julia/stdlib/v1.0/LinearAlgebra/src/lu.jl:17",
     "output_type": "error",
     "traceback": [
      "MethodError: no method matching LU(::Array{Float64,2})\nClosest candidates are:\n  LU(::AbstractArray{T,2}, !Matched::Array{Int64,1}, !Matched::Int64) where T at /buildworker/worker/package_linux64/build/usr/share/julia/stdlib/v1.0/LinearAlgebra/src/lu.jl:17",
      "",
      "Stacktrace:",
      " [1] solve_system(::Array{Float64,2}, ::Array{Float64,1}) at ./In[71]:2",
      " [2] top-level scope at In[73]:1"
     ]
    }
   ],
   "source": [
    "solve_system(A,b)"
   ]
  },
  {
   "cell_type": "code",
   "execution_count": null,
   "metadata": {},
   "outputs": [],
   "source": []
  }
 ],
 "metadata": {
  "kernelspec": {
   "display_name": "Julia 1.0.3",
   "language": "julia",
   "name": "julia-1.0"
  },
  "language_info": {
   "file_extension": ".jl",
   "mimetype": "application/julia",
   "name": "julia",
   "version": "1.0.3"
  }
 },
 "nbformat": 4,
 "nbformat_minor": 2
}
